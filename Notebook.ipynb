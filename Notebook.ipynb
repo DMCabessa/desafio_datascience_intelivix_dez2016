{
 "cells": [
  {
   "cell_type": "markdown",
   "metadata": {},
   "source": [
    "# Documentação do desafio datascience intelivix (avançado)\n",
    "\n",
    "Para esse desafio foram utilizados os pacotes **NLTK** e **sklearn** para o processamento dos textos e classificação dos dados, respectivamente. Essa documentação está dividida conforme descrito no **README.md**, através das seguintes etapas:\n",
    "\n",
    "1. Bibliotecas utilizadas\n",
    "2. Análise dos dados\n",
    "    2.1. Seleão das classes\n",
    "    2.2. Construção das bases de treinamento e teste\n",
    "3. Treinamento\n",
    "    3.1 Pré-processamento\n",
    "    3.2 Classificação\n",
    "4. Teste\n",
    "5. Conclusões\n",
    "\n",
    "---"
   ]
  },
  {
   "cell_type": "markdown",
   "metadata": {},
   "source": [
    "## 1. Bibliotecas utilizadas\n",
    "\n",
    "As seguintes bibliotecas foram utilizadas para a execução do código desenvolvido:"
   ]
  },
  {
   "cell_type": "code",
   "execution_count": 17,
   "metadata": {
    "collapsed": false
   },
   "outputs": [
    {
     "name": "stderr",
     "output_type": "stream",
     "text": [
      "/home/vfp/.local/lib/python2.7/site-packages/sklearn/cross_validation.py:44: DeprecationWarning: This module was deprecated in version 0.18 in favor of the model_selection module into which all the refactored classes and functions are moved. Also note that the interface of the new CV iterators are different from that of this module. This module will be removed in 0.20.\n",
      "  \"This module will be removed in 0.20.\", DeprecationWarning)\n",
      "/home/vfp/.local/lib/python2.7/site-packages/sklearn/grid_search.py:43: DeprecationWarning: This module was deprecated in version 0.18 in favor of the model_selection module into which all the refactored classes and functions are moved. This module will be removed in 0.20.\n",
      "  DeprecationWarning)\n"
     ]
    }
   ],
   "source": [
    "from __future__ import division\n",
    "\n",
    "from nltk.corpus import brown\n",
    "from nltk.corpus import stopwords\n",
    "from nltk.stem.lancaster import LancasterStemmer\n",
    "\n",
    "from sklearn.metrics import confusion_matrix\n",
    "from sklearn.grid_search import GridSearchCV\n",
    "from sklearn.neural_network import MLPClassifier\n",
    "from sklearn import tree\n",
    "from sklearn import svm\n",
    "\n",
    "import operator\n",
    "import random\n",
    "import csv\n",
    "import numpy\n",
    "import json\n",
    "import time\n",
    "import math\n",
    "import string\n",
    "import itertools\n",
    "import numpy as np\n",
    "\n",
    "import matplotlib.pyplot as plt\n",
    "\n"
   ]
  },
  {
   "cell_type": "markdown",
   "metadata": {},
   "source": [
    "## 2. Análise dos dados\n",
    "\n",
    "### 2.1. Seleção das classes\n",
    "\n",
    "O primeiro passo é caracterizado pela seleção das categorias a serem avaliadas pelo modelo. O pacote Brown do NLTK possui um arquivo contendo uma lista dos *ids* de todos os documentos e suas respectivas etiquetas em **cats.txt**. A partir da leitura desse arquivo é possível identificar as classes majoritárias a serem selecionadas. O seguinte *script* realiza esse processo:"
   ]
  },
  {
   "cell_type": "code",
   "execution_count": 18,
   "metadata": {
    "collapsed": false
   },
   "outputs": [
    {
     "name": "stdout",
     "output_type": "stream",
     "text": [
      "Category 0: learned\n",
      "Category 1: belles_lettres\n"
     ]
    }
   ],
   "source": [
    "categories_count = {x: 0 for x in brown.categories()}\n",
    "\n",
    "_id = u'cats.txt'\n",
    "file = brown.open(_id)\n",
    "\n",
    "for line in file:\n",
    "\tcategory = line.rstrip('\\n').split()[1]\n",
    "\tcategories_count[category] += 1\n",
    "\n",
    "sortedlist = sorted(categories_count.items(), key=operator.itemgetter(1), reverse=True)\n",
    "\n",
    "print \"Category 0: \"+sortedlist[0][0]\n",
    "print \"Category 1: \"+sortedlist[1][0]"
   ]
  },
  {
   "cell_type": "markdown",
   "metadata": {},
   "source": [
    "### 2.2. Construção das bases de treinamento e teste\n",
    "\n",
    "Uma vez definidas as categorias que serão avaliadas é possível extrair do pacote Brown apenas os textos relevantes e dividí-los em conjuntos de treinamento e teste. 66% dos textos são selecionados aleatoriamente para a base de treinamento e o restante é utilizado como base de teste.\n",
    "\n",
    "Para examinar a robustez do algoritmo a separação dos dados e o subsequente treinamento são realizados 10 vezes para garantir que o resultado é independente dos textos escolhidos para cada base do modelo."
   ]
  },
  {
   "cell_type": "code",
   "execution_count": 19,
   "metadata": {
    "collapsed": false
   },
   "outputs": [],
   "source": [
    "def getrelevant():\n",
    "\tcat0 = u'learned' \t\t\t# cjNN\n",
    "\tcat1 = u'belles_lettres'\t# cgNN\n",
    "\n",
    "\t_id = u'cats.txt'\n",
    "\tfile = brown.open(_id)\n",
    "\n",
    "\trelevant_files = []\n",
    "\tfor line in file:\n",
    "\t\tcategory = line.rstrip('\\n').split()[1]\n",
    "\t\tif category == cat0 or category == cat1:\n",
    "\t\t\trelevant_files.append(line.split()[0])\n",
    "\n",
    "\treturn relevant_files\n",
    "\n",
    "relevant_files = getrelevant()\n",
    "trainset = random.sample(relevant_files, 103)\n",
    "testset = [x for x in relevant_files if x not in trainset]"
   ]
  },
  {
   "cell_type": "markdown",
   "metadata": {},
   "source": [
    "## 3. Treinamento\n",
    "\n",
    "Com posse do conjunto de textos de treinamento iniciamos a fase de treinamento. \n",
    "\n",
    "### 3.1. Pré-processamento\n",
    "\n",
    "O pré-processamento dos textos é o processo onde são retirados dos textos pontuações, stopwords e os tokens resultantes são submetidos a um processo de stemmização (os textos da base Brown do NLTK já estão tokenizados, portanto essa etapa do pré-processamento faz-se desnecessária)."
   ]
  },
  {
   "cell_type": "code",
   "execution_count": 20,
   "metadata": {
    "collapsed": true
   },
   "outputs": [],
   "source": [
    "def readfile(fileid):\n",
    "\trawfile = brown.open(fileid)\n",
    "\treturn rawfile.read()\n",
    "\n",
    "def preprocess(file):\n",
    "\twords = file.split()\n",
    "\t_stopwords = stopwords.words('english')\n",
    "\tstemmer = LancasterStemmer()\n",
    "\texpanded_punctuation = \"\"\n",
    "\tfor symbol in string.punctuation:\n",
    "\t\texpanded_punctuation += symbol+symbol\n",
    "\n",
    "\t# Remove the tags and punctuation from text\n",
    "\tuntagged = []\n",
    "\tfor word in words:\n",
    "\t\tcoreword = word[:word.index('/')]\n",
    "\t\tif coreword not in expanded_punctuation:\n",
    "\t\t\tuntagged.append(coreword)\n",
    "\n",
    "\t# Remove stopwords from text\n",
    "\tfiltered = [w for w in untagged if w.lower() not in _stopwords]\n",
    "\n",
    "\t# Stemm text\n",
    "\tfor i in range(0,len(filtered)):\n",
    "\t\tfiltered[i] = stemmer.stem(filtered[i])\n",
    "\n",
    "\treturn filtered"
   ]
  },
  {
   "cell_type": "markdown",
   "metadata": {},
   "source": [
    "Nesse ponto definimos ma classe chamada **InvertedIndex** responsável por construir, através do conjunto de treinamento, uma tabela de índice invertido, a fim de facilitar o processo posterior de cálculo da matrix TF-IDF. A inicialização dessa classe trabalha sobre o conjunto de treinamento, realizando o processo de pré-processamento dos textos.\n",
    "\n",
    "A função **tf_idf** atua sobre a tabela de índice invertido construída durante a inicialização e retorna uma matrix TF-IDF dos textos e as categorias referentes a cada documento. A matrix TF-IDF é uma matriz em que cada linha representa um documento e cada coluna representa o valor TF-IDF referente a um par (documento,token),a fim de que cada coluna atue como um atributo do documento em questão. Essa mesma função pode realzar esses cálculos sobre a base de testes, caso esta seja passada por parâmetro. O cálculo da matriz de teste é mais custoso, pois não é possível elaborar a tabela de índice invertido do conjunto de teste, em vez disso é necessário pré-processar cada documento durante a iteração.\n",
    "\n",
    "Ainda nessa classe definimos uma função de filtragem, **trim**. Esta função elimina da lista de tokens aqueles que apresentam menor valor para o modelo, ou seja, tokens que não sejam capazes de representar bem uma das duas categorias. Para atingir esse efeito removemos os tokens presentes apenas em um documento e tokens que estão presentes em ambas as categorias na mesma proporção, assim mantemos apenas os tokens que representam apenas uma categoria (não consideramos tokens representativos de um único documento pois o objetivo é classificação e não *page-ranking*). Realizamos essa *limpeza* dos dados, pois devido a ordem de grandeza dos tokens (mais de 110.000 tokens únicos) comparada aos documentos disponíveis para o treinamento (cerca de 100 documentos) torna-se difícil para o classificador estabelecer uma separação entre as duas classes. "
   ]
  },
  {
   "cell_type": "code",
   "execution_count": 21,
   "metadata": {
    "collapsed": true
   },
   "outputs": [],
   "source": [
    "class InvertedIndex():\n",
    "\n",
    "\tdef __init__(self, trainset):\n",
    "\t\tself.table = {}\n",
    "\t\tself.tokens = []\n",
    "\t\tself.documents = trainset\n",
    "\n",
    "\t\tstart = time.time()\n",
    "\n",
    "\t\tfor fileid in trainset:\n",
    "\t\t\tfile = readfile(fileid)\n",
    "\t\t\tprocessed = preprocess(file)\n",
    "\n",
    "\t\t\tfor token in processed:\n",
    "\n",
    "\t\t\t\tif token not in self.table:\n",
    "\t\t\t\t\tself.table[token] = dict()\n",
    "\t\t\t\t\tself.tokens.append(token)\n",
    "\n",
    "\t\t\t\ttoken_data = self.table[token]\n",
    "\t\t\t\tif fileid not in token_data:\n",
    "\t\t\t\t\ttoken_data[fileid] = 1\n",
    "\t\t\t\telse:\n",
    "\t\t\t\t\ttoken_data[fileid] += 1\n",
    "\n",
    "\t\tfinish = time.time()\n",
    "\t\telapsed = finish - start\n",
    "\t\t#print \"Built inverted index from \"+str(len(self.documents))+\" documents in \"+str(elapsed)+\" seconds.\"\n",
    "\n",
    "\tdef __str__(self):\n",
    "\t\treturn json.dumps(self.table, indent=1)\n",
    "\n",
    "\tdef __repr__(self):\n",
    "\t\treturn json.dumps(self.table, indent=1)\n",
    "\n",
    "\tdef tf_idf(self, idset=[]):\n",
    "\t\tif len(idset) == 0:\n",
    "\t\t\tstart = time.time()\n",
    "\t\t\tmatrix = [[0 for x in range(len(self.tokens))] for y in range(len(self.documents))]\n",
    "\t\t\tclasses = []\n",
    "\n",
    "\t\t\tstep = 100.0/len(self.documents)\n",
    "\t\t\tfor i in range(0, len(self.documents)):\n",
    "\t\t\t\tfor j in range(0,len(self.tokens)+1):\n",
    "\t\t\t\t\tif j == len(self.tokens):\n",
    "\t\t\t\t\t\tif self.documents[i][1] == 'j':\n",
    "\t\t\t\t\t\t\tclasses.append(0)\n",
    "\t\t\t\t\t\telse:\n",
    "\t\t\t\t\t\t\tclasses.append(1)\n",
    "\t\t\t\t\telse:\n",
    "\t\t\t\t\t\ttf = self._tf(self.tokens[j], self.documents[i])\n",
    "\t\t\t\t\t\tidf = self._idf(self.tokens[j])\n",
    "\n",
    "\t\t\t\t\t\tmatrix[i][j] = tf*idf\n",
    "\n",
    "\t\t\t\tval = i*step\n",
    "\t\t\t\t#print \"\"+str(val)+\"% complete...\"\n",
    "\n",
    "\t\t\tfinish = time.time()\n",
    "\t\t\telapsed = finish - start\n",
    "\t\t\t#print \"Built tf-idf matrix in \"+str(elapsed)+\" seconds.\"\n",
    "\n",
    "\t\t\treturn matrix, classes\n",
    "\n",
    "\t\telse:\n",
    "\t\t\tstart = time.time()\n",
    "\t\t\tmatrix = [[0 for x in range(len(self.tokens))] for y in range(len(idset))]\n",
    "\n",
    "\t\t\tstep = 100.0/len(idset)\n",
    "\t\t\tfor i in range(0, len(idset)):\n",
    "\t\t\t\tfile = readfile(idset[i])\n",
    "\t\t\t\tprocessed = preprocess(file)\n",
    "\n",
    "\t\t\t\tfor j in range(0,len(self.tokens)):\n",
    "\t\t\t\t\ttf = self._tf(self.tokens[j], processed)\n",
    "\t\t\t\t\tidf = self._idf(self.tokens[j])\n",
    "\n",
    "\t\t\t\t\tmatrix[i][j] = tf*idf\n",
    "\n",
    "\t\t\t\tval = i*step\n",
    "\t\t\t\t#print \"\"+str(val)+\"% complete...\"\n",
    "\n",
    "\t\t\tfinish = time.time()\n",
    "\t\t\telapsed = finish - start\n",
    "\t\t\t#print \"Built tf-idf matrix in \"+str(elapsed)+\" seconds.\"\n",
    "\n",
    "\t\t\treturn matrix\n",
    "\t\t\n",
    "\n",
    "\tdef _tf(self, term, document):\n",
    "\t\tif isinstance(document, list):\n",
    "\t\t\tif term in document:\n",
    "\t\t\t\tfrequency = 0\n",
    "\t\t\t\tfor token in document:\n",
    "\t\t\t\t\tif token == term:\n",
    "\t\t\t\t\t\tfrequency += 1\n",
    "\t\t\t\treturn 1 + math.log10(frequency)\n",
    "\t\t\telse:\n",
    "\t\t\t\treturn 0\n",
    "\t\telse:\n",
    "\t\t\tif document in self.table[term]:\n",
    "\t\t\t\tfrequency = self.table[term][document]\n",
    "\t\t\t\treturn 1 + math.log10(frequency)\n",
    "\t\t\telse:\n",
    "\t\t\t\treturn 0\n",
    "\n",
    "\tdef _idf(self, term):\n",
    "\t\tN = len(self.tokens)\n",
    "\t\tdocument_frequency = len(self.table[term].keys())\n",
    "\t\treturn math.log10(N/1 + document_frequency)\n",
    "\n",
    "\tdef trim(self, ratio=0.5):\n",
    "\t\tfor token in self.tokens:\n",
    "\t\t\tdocs = self.table[token]\n",
    "\t\t\tjs, gs = 0, 0\n",
    "\t\t\tfor doc in docs:\n",
    "\t\t\t\tif doc[1] == 'j':\n",
    "\t\t\t\t\tjs += 1\n",
    "\t\t\t\telse:\n",
    "\t\t\t\t\tgs += 1\n",
    "\t\t\tmajor = gs if gs > js else js\n",
    "\t\t\tfraction = major / (gs+js)\n",
    "\t\t\tif len(docs) == 1 or fraction <= ratio: \n",
    "\t\t\t\tdel self.table[token]\n",
    "\n",
    "\t\tself.tokens = self.table.keys()"
   ]
  },
  {
   "cell_type": "markdown",
   "metadata": {},
   "source": [
    "Podemos fazer o uso da classe definida e de suas funções para realizar o pré-processamento dos dados obtidos na etapa 2.2."
   ]
  },
  {
   "cell_type": "code",
   "execution_count": 22,
   "metadata": {
    "collapsed": true
   },
   "outputs": [],
   "source": [
    "index = InvertedIndex(trainset)\n",
    "index.trim()\n",
    "training_samples, training_classes = index.tf_idf()\n",
    "test_samples = index.tf_idf(testset)\n",
    "\n",
    "true_classes = []\n",
    "for fileid in testset:\n",
    "    _class = 0 if fileid[1] == 'j' else 1\n",
    "    true_classes.append(_class)"
   ]
  },
  {
   "cell_type": "markdown",
   "metadata": {},
   "source": [
    "### 3.2 Classificação\n",
    "\n",
    "Após terminarmos o pré-processamento dos dados, iniciamos a etapa de classificação. Para essa etapa escolhemos 3 classificadores presentes no pacote **sklearn**: Multilayer Perceptron, Árvores de decisão e Support Vector machine. Para cada um dos classificadores os dados da matriz TF-IDF de treinamento são apresentados para conclusão do treinamento. Nesse momento os classificadores são empregados usando deus parâmetros padrão.\n",
    "\n",
    "## 4. Teste\n",
    "\n",
    "### 4.1. Teste padrão\n",
    "\n",
    "Com os classificadores treinados começamos a etapa de teste, utilizando o conjunto de teste para avaliar a média do erro quadrático e a matriz de confusão de cada um. A impressão da matrix de confusão utiliza uma função própria.\n",
    "\n",
    "> O *log* completo com o resultado das 10 execuções foram omitidos desse segmento a fim de evitar comprometer a organização visual e se encontra em /results/confusion-matrix/default/."
   ]
  },
  {
   "cell_type": "code",
   "execution_count": 23,
   "metadata": {
    "collapsed": true
   },
   "outputs": [],
   "source": [
    "def plot_confusion_matrix(cm, classes,\n",
    "                          normalize=False,\n",
    "                          title='Confusion matrix',\n",
    "                          cmap=plt.cm.Blues):\n",
    "    \"\"\"\n",
    "    This function prints and plots the confusion matrix.\n",
    "    Normalization can be applied by setting `normalize=True`.\n",
    "    \"\"\"\n",
    "    plt.imshow(cm, interpolation='nearest', cmap=cmap)\n",
    "    plt.title(title)\n",
    "    plt.colorbar()\n",
    "    tick_marks = np.arange(len(classes))\n",
    "    plt.xticks(tick_marks, classes, rotation=45)\n",
    "    plt.yticks(tick_marks, classes)\n",
    "\n",
    "    if normalize:\n",
    "        cm = cm.astype('float') / cm.sum(axis=1)[:, np.newaxis]\n",
    "        print(\"Normalized confusion matrix\")\n",
    "    else:\n",
    "        print('Confusion matrix, without normalization')\n",
    "\n",
    "    print(cm)\n",
    "\n",
    "    thresh = cm.max() / 2.\n",
    "    for i, j in itertools.product(range(cm.shape[0]), range(cm.shape[1])):\n",
    "        plt.text(j, i, cm[i, j],\n",
    "                 horizontalalignment=\"center\",\n",
    "                 color=\"white\" if cm[i, j] > thresh else \"black\")\n",
    "\n",
    "    plt.tight_layout()\n",
    "    plt.ylabel('True label')\n",
    "    plt.xlabel('Predicted label')"
   ]
  },
  {
   "cell_type": "code",
   "execution_count": 24,
   "metadata": {
    "collapsed": false
   },
   "outputs": [
    {
     "name": "stdout",
     "output_type": "stream",
     "text": [
      "MLP::mse: \t\t0.134615384615\n",
      "Confusion matrix, without normalization\n",
      "[[23  4]\n",
      " [ 3 22]]\n"
     ]
    },
    {
     "data": {
      "image/png": "[encoded data removed]",
      "text/plain": [
       "<matplotlib.figure.Figure at 0x7fa4c919a190>"
      ]
     },
     "metadata": {},
     "output_type": "display_data"
    },
    {
     "name": "stdout",
     "output_type": "stream",
     "text": [
      "Decision tree::mse: \t0.288461538462\n",
      "Confusion matrix, without normalization\n",
      "[[20  7]\n",
      " [ 8 17]]\n"
     ]
    },
    {
     "data": {
      "image/png": "[encoded data removed]",
      "text/plain": [
       "<matplotlib.figure.Figure at 0x7fa4c8ef1bd0>"
      ]
     },
     "metadata": {},
     "output_type": "display_data"
    },
    {
     "name": "stdout",
     "output_type": "stream",
     "text": [
      "SVM::mse: \t\t0.153846153846\n",
      "Confusion matrix, without normalization\n",
      "[[19  8]\n",
      " [ 0 25]]\n"
     ]
    },
    {
     "data": {
      "image/png": "[encoded data removed]",
      "text/plain": [
       "<matplotlib.figure.Figure at 0x7fa4c8e97a50>"
      ]
     },
     "metadata": {},
     "output_type": "display_data"
    }
   ],
   "source": [
    "# ==================================================\n",
    "# MLP classifier\n",
    "# ==================================================\n",
    "\n",
    "# Training step\n",
    "#print \"Starting training step...\"\n",
    "classifier = MLPClassifier()\n",
    "classifier.fit(training_samples, training_classes)\n",
    "#print \"Finished training.\"\n",
    "\n",
    "# Testing step\n",
    "#print \"Starting testing step...\"\n",
    "predicted_classes = classifier.predict(test_samples)\n",
    "\n",
    "misses = 0\n",
    "for i in range(0, len(testset)):\n",
    "    if true_classes[i] != predicted_classes[i]:\n",
    "        misses += 1\n",
    "\n",
    "mse = misses / len(testset)\n",
    "print \"MLP::mse: \\t\\t\"+str(mse)\n",
    "\n",
    "# Confusion matrix setup\n",
    "cnf_matrix = confusion_matrix(true_classes, predicted_classes)\n",
    "numpy.set_printoptions(precision=2)\n",
    "\n",
    "plt.figure()\n",
    "plot_confusion_matrix(cnf_matrix, classes=['learned','belles_letters'],\n",
    "    title='MLP confusion matrix')\n",
    "\n",
    "plt.show()\n",
    "\n",
    "# ==================================================\n",
    "# Decision tree classifier\n",
    "# ==================================================\n",
    "\n",
    "# Training step\n",
    "#print \"Starting training step...\"\n",
    "classifier = tree.DecisionTreeClassifier()\n",
    "classifier.fit(training_samples, training_classes)\n",
    "#print \"Finished training.\"\n",
    "\n",
    "# Testing step\n",
    "#print \"Starting testing step...\"\n",
    "predicted_classes = classifier.predict(test_samples)\n",
    "\n",
    "misses = 0\n",
    "for i in range(0, len(testset)):\n",
    "    if true_classes[i] != predicted_classes[i]:\n",
    "        misses += 1\n",
    "\n",
    "mse = misses / len(testset)\n",
    "print \"Decision tree::mse: \\t\"+str(mse)\n",
    "\n",
    "# Confusion matrix setup\n",
    "cnf_matrix = confusion_matrix(true_classes, predicted_classes)\n",
    "numpy.set_printoptions(precision=2)\n",
    "\n",
    "plt.figure()\n",
    "plot_confusion_matrix(cnf_matrix, classes=['learned','belles_letters'],\n",
    "    title='Decision tree confusion matrix')\n",
    "\n",
    "plt.show()\n",
    "\n",
    "# ==================================================\n",
    "# Support vector machine classifier\n",
    "# ==================================================\n",
    "\n",
    "# Training step\n",
    "#print \"Starting training step...\"\n",
    "classifier = svm.SVC()\n",
    "classifier.fit(training_samples, training_classes)\n",
    "#print \"Finished training.\"\n",
    "\n",
    "# Testing step\n",
    "#print \"Starting testing step...\"\n",
    "predicted_classes = classifier.predict(test_samples)\n",
    "\n",
    "misses = 0\n",
    "for i in range(0, len(testset)):\n",
    "    if true_classes[i] != predicted_classes[i]:\n",
    "        misses += 1\n",
    "\n",
    "mse = misses / len(testset)\n",
    "print \"SVM::mse: \\t\\t\"+str(mse)\n",
    "\n",
    "# Confusion matrix setup\n",
    "cnf_matrix = confusion_matrix(true_classes, predicted_classes)\n",
    "numpy.set_printoptions(precision=2)\n",
    "\n",
    "plt.figure()\n",
    "plot_confusion_matrix(cnf_matrix, classes=['learned','belles_letters'],\n",
    "    title='SVM confusion matrix')\n",
    "\n",
    "plt.show()"
   ]
  },
  {
   "cell_type": "markdown",
   "metadata": {},
   "source": [
    "### 4.2. Ajuste dos hiperparâmetros\n",
    "\n",
    "Os resultados iniciais dos testes apontam um resultado superior para o classificador SVM, porém, antes de decidirmos qual o melhor classificador devemos realizar os ajustes dos hiperparâmetros para repetir os testes, dessa vez utilizando os melhores parâmetros. A otimização dos parâmetros foi feita utilizando busca em grade exaustiva.\n",
    "\n",
    "> Mais uma vez os testes completos foram omitidos para melhor organização da documentação e encontram-se em /results/hiper-param-tunning/. Os parâmetros ótimos escolhidos para a seção 4.3 foram baseados nos resultados encontrados nos nos testes mencionados, portanto pode haver algumas inconsistências entre os esses parâmetros e os *scores* encontrados nos ajustes desta seção, pois aqui realizamos apenas uma iteração a fim de exemplificar.\n",
    "\n",
    "Para o classificador MLP escolhemos os parâmetros: neurônios na camada escondida, ativação, algoritmo solucionador, alfa, taxa de aprendixagem e taxa de aprendizagem inicial."
   ]
  },
  {
   "cell_type": "code",
   "execution_count": 25,
   "metadata": {
    "collapsed": false
   },
   "outputs": [
    {
     "name": "stdout",
     "output_type": "stream",
     "text": [
      "========================================\n",
      "Testing values for 'solver'\n",
      "========================================\n",
      "> Best score: 0.825242718447\n",
      "> Best param: sgd\n",
      "========================================\n",
      "Testing values for 'activation'\n",
      "========================================\n",
      "> Best score: 0.864077669903\n",
      "> Best param: logistic\n",
      "========================================\n",
      "Testing values for 'hidden_layer_sizes'\n",
      "========================================\n",
      "> Best score: 0.834951456311\n",
      "> Best param: (50,)\n",
      "========================================\n",
      "Testing values for 'alpha'\n",
      "========================================\n",
      "> Best score: 0.796116504854\n",
      "> Best param: 1e-05\n",
      "========================================\n",
      "Testing values for 'learning_rate'\n",
      "========================================\n",
      "> Best score: 0.796116504854\n",
      "> Best param: invscaling\n",
      "========================================\n",
      "Testing values for 'learning_rate_init'\n",
      "========================================\n",
      "> Best score: 0.844660194175\n",
      "> Best param: 0.01\n"
     ]
    }
   ],
   "source": [
    "# ==================================================\n",
    "# MLP classifier\n",
    "# ==================================================\n",
    "\n",
    "# MLP parameters\n",
    "params = {\n",
    "'hidden_layer_sizes' : np.array([(50,),(100,),(200)]),\n",
    "'activation' : np.array(['identity','logistic','tanh','relu']),\n",
    "'solver' : np.array(['lbfgs','sgd','adam']),\n",
    "'alpha' : np.array([0.001,0.0001,0.00001]),\n",
    "'learning_rate' : ['constant','invscaling','adaptive'],\n",
    "'learning_rate_init' :  np.array([0.01,0.001,0.0001])}\n",
    "\n",
    "for param in params.keys():\n",
    "    print \"========================================\"\n",
    "    print \"Testing values for '\"+param+\"'\"\n",
    "    print \"========================================\"\n",
    "    classifier = MLPClassifier()\n",
    "    grid = GridSearchCV(estimator=classifier, #verbose=10,\n",
    "        param_grid={param:params[param]})\n",
    "    grid.fit(training_samples, training_classes)\n",
    "    #print(grid)\n",
    "    print \"> Best score: \"+str(grid.best_score_)\n",
    "    print \"> Best param: \"+str(getattr(grid.best_estimator_,param))"
   ]
  },
  {
   "cell_type": "markdown",
   "metadata": {},
   "source": [
    "Para o classificador Árvore de Decisão escolhemos os parâmetros: critério de divisão, características máximas consideradas, número mínimo de amostras na divisão e número mínimo de amostras nas folhas."
   ]
  },
  {
   "cell_type": "code",
   "execution_count": 26,
   "metadata": {
    "collapsed": false
   },
   "outputs": [
    {
     "name": "stdout",
     "output_type": "stream",
     "text": [
      "========================================\n",
      "Testing values for 'max_features'\n",
      "========================================\n",
      "> Best score: 0.68932038835\n",
      "> Best param: None\n",
      "========================================\n",
      "Testing values for 'min_samples_split'\n",
      "========================================\n",
      "> Best score: 0.73786407767\n",
      "> Best param: 2\n",
      "========================================\n",
      "Testing values for 'criterion'\n",
      "========================================\n",
      "> Best score: 0.73786407767\n",
      "> Best param: entropy\n",
      "========================================\n",
      "Testing values for 'min_samples_leaf'\n",
      "========================================\n",
      "> Best score: 0.796116504854\n",
      "> Best param: 2\n"
     ]
    }
   ],
   "source": [
    "# ==================================================\n",
    "# Decision tree classifier\n",
    "# ==================================================\n",
    "\n",
    "# Decision tree parameters\n",
    "params = {\n",
    "'criterion' : ['gini','entropy'],\n",
    "'max_features' : ['auto', 'sqrt', 'log2', None],\n",
    "'min_samples_split' : np.array([2,4,6]),\n",
    "'min_samples_leaf' : np.array([1,2,3])\n",
    "}\n",
    "\n",
    "for param in params.keys():\n",
    "    print \"========================================\"\n",
    "    print \"Testing values for '\"+param+\"'\"\n",
    "    print \"========================================\"\n",
    "    classifier = tree.DecisionTreeClassifier()\n",
    "    grid = GridSearchCV(estimator=classifier, #verbose=10,\n",
    "        param_grid={param:params[param]})\n",
    "    grid.fit(training_samples, training_classes)\n",
    "    #print(grid)\n",
    "    print \"> Best score: \"+str(grid.best_score_)\n",
    "    print \"> Best param: \"+str(getattr(grid.best_estimator_,param))"
   ]
  },
  {
   "cell_type": "markdown",
   "metadata": {},
   "source": [
    "Para o classificador SVM escolhemos os parâmetros: Taxa C, valor de kernel e gama."
   ]
  },
  {
   "cell_type": "code",
   "execution_count": 27,
   "metadata": {
    "collapsed": false
   },
   "outputs": [
    {
     "name": "stdout",
     "output_type": "stream",
     "text": [
      "========================================\n",
      "Testing values for 'kernel'\n",
      "========================================\n",
      "> Best score: 0.825242718447\n",
      "> Best param: linear\n",
      "========================================\n",
      "Testing values for 'C'\n",
      "========================================\n",
      "> Best score: 0.815533980583\n",
      "> Best param: 10.0\n",
      "========================================\n",
      "Testing values for 'gamma'\n",
      "========================================\n",
      "> Best score: 0.805825242718\n",
      "> Best param: 0.0001\n"
     ]
    }
   ],
   "source": [
    "# ==================================================\n",
    "# Support vector machine classifier\n",
    "# ==================================================\n",
    "\n",
    "# SVM parameters\n",
    "params = {\n",
    "'C' : np.array([1.0,10.0,100.0]),\n",
    "'kernel' : [\"linear\",\"poly\",\"rbf\",\"sigmoid\"],\n",
    "'gamma' : np.array([1e-3,1e-4,1e-5])}\n",
    "\n",
    "for param in params.keys():\n",
    "    print \"========================================\"\n",
    "    print \"Testing values for '\"+param+\"'\"\n",
    "    print \"========================================\"\n",
    "    classifier = svm.SVC()\n",
    "    grid = GridSearchCV(estimator=classifier, #verbose=10,\n",
    "        param_grid={param:params[param]})\n",
    "    grid.fit(training_samples, training_classes)\n",
    "    #print(grid)\n",
    "    print \"> Best score: \"+str(grid.best_score_)\n",
    "    print \"> Best param: \"+str(getattr(grid.best_estimator_,param))"
   ]
  },
  {
   "cell_type": "markdown",
   "metadata": {},
   "source": [
    "### 4.3. Teste ajustado\n",
    "\n",
    "Nesse ponto já possuimos os melhores parâmetros para os classificadores escolhidos, portanto podemos refazer os testes anteriores a fim de comparar o desempenho dos classificadores em consições ideais.\n",
    "\n",
    "> Os resultados completos dos testes finais encontram-se em /results/confusion-matrix/tunned/."
   ]
  },
  {
   "cell_type": "code",
   "execution_count": 29,
   "metadata": {
    "collapsed": false
   },
   "outputs": [
    {
     "name": "stdout",
     "output_type": "stream",
     "text": [
      "MLP::mse: \t\t0.0961538461538\n",
      "Confusion matrix, without normalization\n",
      "[[23  4]\n",
      " [ 1 24]]\n"
     ]
    },
    {
     "data": {
      "text/plain": [
       "<matplotlib.figure.Figure at 0x7fa4c9883c10>"
      ]
     },
     "metadata": {},
     "output_type": "display_data"
    },
    {
     "data": {
      "image/png": "[encoded data removed]",
      "text/plain": [
       "<matplotlib.figure.Figure at 0x7fa4c92b62d0>"
      ]
     },
     "metadata": {},
     "output_type": "display_data"
    },
    {
     "name": "stdout",
     "output_type": "stream",
     "text": [
      "Decision tree::mse: \t0.365384615385\n",
      "Confusion matrix, without normalization\n",
      "[[15 12]\n",
      " [ 7 18]]\n"
     ]
    },
    {
     "data": {
      "image/png": "[encoded data removed]",
      "text/plain": [
       "<matplotlib.figure.Figure at 0x7fa4c948ef10>"
      ]
     },
     "metadata": {},
     "output_type": "display_data"
    },
    {
     "name": "stdout",
     "output_type": "stream",
     "text": [
      "SVM::mse: \t\t0.153846153846\n",
      "Confusion matrix, without normalization\n",
      "[[20  7]\n",
      " [ 1 24]]\n"
     ]
    },
    {
     "data": {
      "image/png": "[encoded data removed]",
      "text/plain": [
       "<matplotlib.figure.Figure at 0x7fa4c9517210>"
      ]
     },
     "metadata": {},
     "output_type": "display_data"
    }
   ],
   "source": [
    "# ==================================================\n",
    "# MLP classifier\n",
    "# ==================================================\n",
    "\n",
    "# Training step\n",
    "#print \"Starting training step...\"\n",
    "classifier = MLPClassifier(solver='lbfgs', activation='logistic',\n",
    "    hidden_layer_sizes=(50,),alpha=0.001,learning_rate='adaptive',\n",
    "    learning_rate_init=0.0001)\n",
    "classifier.fit(training_samples, training_classes)\n",
    "#print \"Finished training.\"\n",
    "\n",
    "# Testing step\n",
    "#print \"Starting testing step...\"\n",
    "predicted_classes = classifier.predict(test_samples)\n",
    "\n",
    "misses = 0\n",
    "for i in range(0, len(testset)):\n",
    "    if true_classes[i] != predicted_classes[i]:\n",
    "        misses += 1\n",
    "\n",
    "mse = misses / len(testset)\n",
    "print \"MLP::mse: \\t\\t\"+str(mse)\n",
    "\n",
    "# Confusion matrix setup\n",
    "cnf_matrix = confusion_matrix(true_classes, predicted_classes)\n",
    "numpy.set_printoptions(precision=2)\n",
    "\n",
    "plt.figure()\n",
    "plot_confusion_matrix(cnf_matrix, classes=['learned','belles_letters'],\n",
    "    title='MLP confusion matrix')\n",
    "\n",
    "plt.show()\n",
    "\n",
    "# ==================================================\n",
    "# Decision tree classifier\n",
    "# ==================================================\n",
    "\n",
    "# Training step\n",
    "#print \"Starting training step...\"\n",
    "classifier = tree.DecisionTreeClassifier(max_features='sqrt',\n",
    "    min_samples_split=2, criterion='gini', min_samples_leaf=1)\n",
    "classifier.fit(training_samples, training_classes)\n",
    "#print \"Finished training.\"\n",
    "\n",
    "# Testing step\n",
    "#print \"Starting testing step...\"\n",
    "predicted_classes = classifier.predict(test_samples)\n",
    "\n",
    "misses = 0\n",
    "for i in range(0, len(testset)):\n",
    "    if true_classes[i] != predicted_classes[i]:\n",
    "        misses += 1\n",
    "\n",
    "mse = misses / len(testset)\n",
    "print \"Decision tree::mse: \\t\"+str(mse)\n",
    "\n",
    "# Confusion matrix setup\n",
    "cnf_matrix = confusion_matrix(true_classes, predicted_classes)\n",
    "numpy.set_printoptions(precision=2)\n",
    "\n",
    "plt.figure()\n",
    "plot_confusion_matrix(cnf_matrix, classes=['learned','belles_letters'],\n",
    "    title='Decision tree confusion matrix')\n",
    "\n",
    "plt.show()\n",
    "\n",
    "# ==================================================\n",
    "# Support vector machine classifier\n",
    "# ==================================================\n",
    "\n",
    "# Training step\n",
    "#print \"Starting training step...\"\n",
    "classifier = svm.SVC(kernel='linear', C=1.0, gamma=0.0001)\n",
    "classifier.fit(training_samples, training_classes)\n",
    "#print \"Finished training.\"\n",
    "\n",
    "# Testing step\n",
    "#print \"Starting testing step...\"\n",
    "predicted_classes = classifier.predict(test_samples)\n",
    "\n",
    "misses = 0\n",
    "for i in range(0, len(testset)):\n",
    "    if true_classes[i] != predicted_classes[i]:\n",
    "        misses += 1\n",
    "\n",
    "mse = misses / len(testset)\n",
    "print \"SVM::mse: \\t\\t\"+str(mse)\n",
    "\n",
    "# Confusion matrix setup\n",
    "cnf_matrix = confusion_matrix(true_classes, predicted_classes)\n",
    "numpy.set_printoptions(precision=2)\n",
    "\n",
    "plt.figure()\n",
    "plot_confusion_matrix(cnf_matrix, classes=['learned','belles_letters'],\n",
    "    title='SVM confusion matrix')\n",
    "\n",
    "plt.show()"
   ]
  },
  {
   "cell_type": "markdown",
   "metadata": {},
   "source": [
    "## 5. Conclusões\n",
    "\n",
    "Através dos testes realizados com os parâmetros dos classificadores ajustados, observamos consequências diferentes para cada classificador. O MLP experimentou forte melhoria de desempenho, quanto que Árvore de decisão sofreu pequena queda de desempenho e o SVM quase não foi alterado. Com base nos resultados podemos concluir que o classificador MLP tornou-se, após os ajustes, o melhor classificador dentre os três. \n",
    "\n",
    "A hipótese mais forte para os efeitos observados é que o MLP possui uma quantidade maior de parâmetros disponíveis para ajuste, portanto está mais propenso a melhorias durante este processo. Além disso, Redes Neurais são "
   ]
  }
 ],
 "metadata": {
  "kernelspec": {
   "display_name": "Python 2",
   "language": "python",
   "name": "python2"
  },
  "language_info": {
   "codemirror_mode": {
    "name": "ipython",
    "version": 2
   },
   "file_extension": ".py",
   "mimetype": "text/x-python",
   "name": "python",
   "nbconvert_exporter": "python",
   "pygments_lexer": "ipython2",
   "version": "2.7.12"
  }
 },
 "nbformat": 4,
 "nbformat_minor": 2
}
