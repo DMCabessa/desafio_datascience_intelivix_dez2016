{
 "cells": [
  {
   "cell_type": "markdown",
   "metadata": {},
   "source": [
    "# Documentação do desafio datascience intelivix (avançado)\n",
    "\n",
    "Para esse desafio foram utilizados os pacotes NLTK e sklearn para o processamento dos textos e classificação dos dados, respectivamente. Essa documentação está dividida conforme descrito no README.md, através das seguintes etapas:\n",
    "\n",
    "0. Bibliotecas\n",
    "1. Pré-processamento \n",
    "2. Classificação\n",
    "\n",
    "---"
   ]
  },
  {
   "cell_type": "markdown",
   "metadata": {},
   "source": [
    "## 0. Bibliotecas\n",
    "\n",
    "As seguintes bibliotecas foram utilizadas durate todo o processo:"
   ]
  },
  {
   "cell_type": "code",
   "execution_count": 4,
   "metadata": {
    "collapsed": true
   },
   "outputs": [],
   "source": [
    "import operator\n",
    "from nltk.corpus import brown"
   ]
  },
  {
   "cell_type": "markdown",
   "metadata": {},
   "source": [
    "## 1. Pré-processamento\n",
    "\n",
    "### 1.1. Seleção das classes\n",
    "\n",
    "O primeiro passo do pré-processamento é caracterizado pela seleção das categorias a serem avaliadas pelo modelo. O pacote Brown do NLTK possui um arquivo contendo uma lista dos *ids* de todos os documentos e suas respectivas etiquetas. A partir da leitura desse arquivo é possível identificar as classes majoritárias a serem selecionadas. O seguinte *stub* realiza esse processo:"
   ]
  },
  {
   "cell_type": "code",
   "execution_count": 5,
   "metadata": {
    "collapsed": false
   },
   "outputs": [
    {
     "name": "stdout",
     "output_type": "stream",
     "text": [
      "Category 0: learned\n",
      "Category 1: belles_lettres\n"
     ]
    }
   ],
   "source": [
    "categories_count = {x: 0 for x in brown.categories()}\n",
    "\n",
    "_id = u'cats.txt'\n",
    "file = brown.open(_id)\n",
    "\n",
    "for line in file:\n",
    "\tcategory = line.rstrip('\\n').split()[1]\n",
    "\tcategories_count[category] += 1\n",
    "\n",
    "sortedlist = sorted(categories_count.items(), key=operator.itemgetter(1), reverse=True)\n",
    "\n",
    "print \"Category 0: \"+sortedlist[0][0]\n",
    "print \"Category 1: \"+sortedlist[1][0]"
   ]
  }
 ],
 "metadata": {
  "kernelspec": {
   "display_name": "Python 2",
   "language": "python",
   "name": "python2"
  },
  "language_info": {
   "codemirror_mode": {
    "name": "ipython",
    "version": 2
   },
   "file_extension": ".py",
   "mimetype": "text/x-python",
   "name": "python",
   "nbconvert_exporter": "python",
   "pygments_lexer": "ipython2",
   "version": "2.7.12"
  }
 },
 "nbformat": 4,
 "nbformat_minor": 2
}
